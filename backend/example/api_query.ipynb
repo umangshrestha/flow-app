{
 "cells": [
  {
   "cell_type": "markdown",
   "metadata": {},
   "source": [
    "REST endpoints for Topic"
   ]
  },
  {
   "cell_type": "code",
   "execution_count": 1,
   "metadata": {},
   "outputs": [],
   "source": [
    "import requests\n",
    "import json\n",
    "from pprint import pprint"
   ]
  },
  {
   "cell_type": "code",
   "execution_count": 15,
   "metadata": {},
   "outputs": [
    {
     "name": "stdout",
     "output_type": "stream",
     "text": [
      "[{'department': 'Civil and Environmental Engineering',\n",
      "  'email': 'biswas@uwindsor.ca',\n",
      "  'faculty': 'Engineering',\n",
      "  'first_name': 'Nihar',\n",
      "  'last_name': 'Biswas',\n",
      "  'uwin_id': 'biswas'},\n",
      " {'department': 'Mechanical, Automotive & Materials Engineering',\n",
      "  'email': 'kader@uwindsor.ca',\n",
      "  'faculty': 'Engineering',\n",
      "  'first_name': 'Walid',\n",
      "  'last_name': 'Abdul-Kader',\n",
      "  'uwin_id': 'kader'},\n",
      " {'department': 'Civil and Environmental Engineering',\n",
      "  'email': 'rajeev@uwindsor.ca',\n",
      "  'faculty': 'Engineering',\n",
      "  'first_name': 'Rajeev',\n",
      "  'last_name': 'Ruparathna',\n",
      "  'uwin_id': 'rajeev'},\n",
      " {'department': 'Civil and Environmental Engineering',\n",
      "  'email': 'rajesh@uwindsor.ca',\n",
      "  'faculty': 'Engineering',\n",
      "  'first_name': 'Rajesh',\n",
      "  'last_name': 'Seth',\n",
      "  'uwin_id': 'rajesh'},\n",
      " {'department': 'Chemistry & Biochemistry',\n",
      "  'email': 'jgreen@uwindsor.ca',\n",
      "  'faculty': 'Science',\n",
      "  'first_name': 'Jim',\n",
      "  'last_name': 'Green',\n",
      "  'uwin_id': 'jgreen'},\n",
      " {'department': 'Mechanical, Automotive & Materials Engineering',\n",
      "  'email': 'oajianu@uwindsor.ca',\n",
      "  'faculty': 'Engineering',\n",
      "  'first_name': 'Ofelia',\n",
      "  'last_name': 'Jianu',\n",
      "  'uwin_id': 'oajianu'},\n",
      " {'department': 'Psychology',\n",
      "  'email': 'lafren1@uwindsor.ca',\n",
      "  'faculty': 'FAHSS',\n",
      "  'first_name': 'Kathryn',\n",
      "  'last_name': 'Lafreniere',\n",
      "  'uwin_id': 'lafren1'},\n",
      " {'department': 'Unknown',\n",
      "  'email': 'Unknown',\n",
      "  'faculty': 'Unknown',\n",
      "  'first_name': 'Unknown',\n",
      "  'last_name': 'Unknown',\n",
      "  'uwin_id': 'Unknown'},\n",
      " {'department': 'Philosophy',\n",
      "  'email': 'doxlog1@uwindsor.ca',\n",
      "  'faculty': 'FAHSS',\n",
      "  'first_name': 'Brian',\n",
      "  'last_name': 'MacPherson',\n",
      "  'uwin_id': 'doxlog1'},\n",
      " {'department': 'English and Creative Writing',\n",
      "  'email': 'mathes4@uwindsor.ca',\n",
      "  'faculty': 'FAHSS',\n",
      "  'first_name': 'Suzanne',\n",
      "  'last_name': 'Matheson',\n",
      "  'uwin_id': 'mathes4'}]\n"
     ]
    }
   ],
   "source": [
    "# Get\n",
    "resp = requests.get(\"http://127.0.0.1:8000/query\")\n",
    "pprint(resp.json()[:10])"
   ]
  },
  {
   "cell_type": "code",
   "execution_count": 34,
   "metadata": {},
   "outputs": [
    {
     "name": "stdout",
     "output_type": "stream",
     "text": [
      "{'department': 'department',\n",
      " 'email': 'email',\n",
      " 'faculty': 'faculty',\n",
      " 'first_name': 'first_name',\n",
      " 'last_name': 'last_name',\n",
      " 'uwin_id': 'apple__'}\n"
     ]
    }
   ],
   "source": [
    "## Post\n",
    "resp = requests.post(\" http://127.0.0.1:8000/query/\",\n",
    "        headers={\"Content-Type\": \"application/json\"},\n",
    "        data=json.dumps({ \n",
    "        \"uwin_id\": uwin_id,\n",
    "        \"first_name\": \"first_name\",\n",
    "        \"last_name\": \"last_name\",\n",
    "        \"department\": \"department\",\n",
    "        \"faculty\": \"faculty\",\n",
    "        \"email\": \"email\",\n",
    "        }))\n",
    "data = resp.json()\n",
    "pprint(data)\n",
    "id = data[\"id\"]"
   ]
  },
  {
   "cell_type": "code",
   "execution_count": 35,
   "metadata": {},
   "outputs": [
    {
     "name": "stdout",
     "output_type": "stream",
     "text": [
      "{'department': 'department 1',\n",
      " 'email': 'email 1',\n",
      " 'faculty': 'faculty 1',\n",
      " 'first_name': 'first_name 1',\n",
      " 'last_name': 'last_name 1',\n",
      " 'uwin_id': 'apple__'}\n"
     ]
    }
   ],
   "source": [
    "## Update\n",
    "resp = requests.patch(f\"http://127.0.0.1:8000/faculty/{id}/\",\n",
    "        headers={\"Content-Type\": \"application/json\"},\n",
    "      data=json.dumps({ \n",
    "        \"uwin_id\": uwin_id,\n",
    "        \"first_name\": \"first_name 1\",\n",
    "        \"last_name\": \"last_name 1\",\n",
    "        \"department\": \"department 1\",\n",
    "        \"faculty\": \"faculty 1\",\n",
    "        \"email\": \"email 1\",\n",
    "        }))\n",
    "pprint(resp.json())"
   ]
  },
  {
   "cell_type": "code",
   "execution_count": 36,
   "metadata": {},
   "outputs": [
    {
     "name": "stdout",
     "output_type": "stream",
     "text": [
      "''\n"
     ]
    }
   ],
   "source": [
    "## Delete\n",
    "resp = requests.delete(f\"http://127.0.0.1:8000/faculty/{id}/\",\n",
    "        headers={\"Content-Type\": \"application/json\"})\n",
    "pprint(resp.text)"
   ]
  }
 ],
 "metadata": {
  "kernelspec": {
   "display_name": "Python 3.10.4 ('venv': venv)",
   "language": "python",
   "name": "python3"
  },
  "language_info": {
   "codemirror_mode": {
    "name": "ipython",
    "version": 3
   },
   "file_extension": ".py",
   "mimetype": "text/x-python",
   "name": "python",
   "nbconvert_exporter": "python",
   "pygments_lexer": "ipython3",
   "version": "3.10.4"
  },
  "orig_nbformat": 4,
  "vscode": {
   "interpreter": {
    "hash": "98daa3fad5a9175ee6af9d7fcbc6eeece79ca66a28967ff25b0fbf01c72d7a91"
   }
  }
 },
 "nbformat": 4,
 "nbformat_minor": 2
}
